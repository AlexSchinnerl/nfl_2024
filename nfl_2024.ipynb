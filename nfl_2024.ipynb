{
 "cells": [
  {
   "cell_type": "code",
   "execution_count": 53,
   "metadata": {},
   "outputs": [],
   "source": [
    "import pandas as pd\n",
    "from functions_load_and_transform import thisWeek_DF, lastWeek_DF, thisWeek, lastWeek"
   ]
  },
  {
   "cell_type": "code",
   "execution_count": 54,
   "metadata": {},
   "outputs": [],
   "source": [
    "import smtplib\n",
    "from email.mime.multipart import MIMEMultipart\n",
    "from email.mime.text import MIMEText\n",
    "\n",
    "import keyring\n",
    "MYKEY = keyring.get_password(\"alxMail\", \"alex\")"
   ]
  },
  {
   "cell_type": "code",
   "execution_count": 55,
   "metadata": {},
   "outputs": [],
   "source": [
    "html = f\"\"\"\\\n",
    "<!DOCTYPE html>\n",
    "<html lang=\"de\">\n",
    "  <body>\n",
    "  <h2>Link zur Übersicht:</h2>\n",
    "  <br>\n",
    "  <a href=\"https://nfl2024-tippspiel.streamlit.app/standing\">https://nfl2024-tippspiel.streamlit.app/standing</a> \n",
    "  <br>\n",
    "  <br>\n",
    "  <h2>Ergebnisse der Woche {lastWeek}:</h2>\n",
    "  <br>\n",
    "  {lastWeek_DF.to_html(index=False)}\n",
    "  <br>\n",
    "  <br>\n",
    "  <h2>Tabelle für Woche {thisWeek}:</h2>\n",
    "  <br>\n",
    "  {thisWeek_DF.to_html(index=False)}\n",
    "  </body>\n",
    "</html>\n",
    "\"\"\""
   ]
  },
  {
   "cell_type": "code",
   "execution_count": 56,
   "metadata": {},
   "outputs": [],
   "source": [
    "mail_text = f\"Ergebnisse Woche {lastWeek}, Tabelle Woche {thisWeek}\""
   ]
  },
  {
   "cell_type": "code",
   "execution_count": 57,
   "metadata": {},
   "outputs": [],
   "source": [
    "def server_details(myMail, message):\n",
    "    server = smtplib.SMTP(\"mail.gmx.net\", 587)\n",
    "    server.starttls()\n",
    "    server.login(myMail, MYKEY)\n",
    "    text = message.as_string()\n",
    "    server.sendmail(from_addr=myMail, to_addrs=\"alexander.schinnerl@jku.at\", msg=text)\n",
    "    server.quit()"
   ]
  },
  {
   "cell_type": "code",
   "execution_count": 58,
   "metadata": {},
   "outputs": [],
   "source": [
    "MYMAIL = \"alex.itsme@gmx.at\"\n",
    "\n",
    "msg = MIMEMultipart()\n",
    "# -----Textbausteine\n",
    "msg[\"Subject\"] = f\"Ergebnisse Woche {lastWeek}, Tabelle Woche {thisWeek}\"\n",
    "msg[\"From\"] = MYMAIL\n",
    "\n",
    "# tables = str(html) # der Mailtext\n",
    "msg.attach(MIMEText(mail_text, \"plain\"))\n",
    "msg.attach(MIMEText(html, \"html\"))\n",
    "\n",
    "server_details(MYMAIL, msg)\n"
   ]
  }
 ],
 "metadata": {
  "kernelspec": {
   "display_name": "Python 3",
   "language": "python",
   "name": "python3"
  },
  "language_info": {
   "codemirror_mode": {
    "name": "ipython",
    "version": 3
   },
   "file_extension": ".py",
   "mimetype": "text/x-python",
   "name": "python",
   "nbconvert_exporter": "python",
   "pygments_lexer": "ipython3",
   "version": "3.10.4"
  }
 },
 "nbformat": 4,
 "nbformat_minor": 2
}
