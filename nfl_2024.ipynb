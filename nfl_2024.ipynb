{
 "cells": [
  {
   "cell_type": "code",
   "execution_count": 28,
   "metadata": {},
   "outputs": [],
   "source": [
    "import pandas as pd\n",
    "from datetime import datetime\n",
    "# from functions_load_and_transform import thisWeek_DF, lastWeek_DF, thisWeek, lastWeek, team_list, scoringDF, player_list"
   ]
  },
  {
   "cell_type": "code",
   "execution_count": 29,
   "metadata": {},
   "outputs": [],
   "source": [
    "from functions_load_and_transform import player_list"
   ]
  },
  {
   "cell_type": "code",
   "execution_count": 39,
   "metadata": {},
   "outputs": [
    {
     "name": "stdout",
     "output_type": "stream",
     "text": [
      "Alex 16\n",
      "Alina 16\n",
      "Evelyn 16\n",
      "Christopher 18\n",
      "Ludwig 18\n",
      "Manu 0\n",
      "Natalie 16\n",
      "Nikolai 14\n",
      "Sebastian 16\n",
      "Vero 14\n",
      "Viki 10\n",
      "Wolfgang 16\n"
     ]
    },
    {
     "data": {
      "text/html": [
       "<div>\n",
       "<style scoped>\n",
       "    .dataframe tbody tr th:only-of-type {\n",
       "        vertical-align: middle;\n",
       "    }\n",
       "\n",
       "    .dataframe tbody tr th {\n",
       "        vertical-align: top;\n",
       "    }\n",
       "\n",
       "    .dataframe thead th {\n",
       "        text-align: right;\n",
       "    }\n",
       "</style>\n",
       "<table border=\"1\" class=\"dataframe\">\n",
       "  <thead>\n",
       "    <tr style=\"text-align: right;\">\n",
       "      <th></th>\n",
       "      <th>Alex</th>\n",
       "      <th>Alina</th>\n",
       "      <th>Evelyn</th>\n",
       "      <th>Christopher</th>\n",
       "      <th>Ludwig</th>\n",
       "      <th>Manu</th>\n",
       "      <th>Natalie</th>\n",
       "      <th>Nikolai</th>\n",
       "      <th>Sebastian</th>\n",
       "      <th>Vero</th>\n",
       "      <th>Viki</th>\n",
       "      <th>Wolfgang</th>\n",
       "    </tr>\n",
       "  </thead>\n",
       "  <tbody>\n",
       "    <tr>\n",
       "      <th>0</th>\n",
       "      <td>16</td>\n",
       "      <td>16</td>\n",
       "      <td>16</td>\n",
       "      <td>18</td>\n",
       "      <td>18</td>\n",
       "      <td>0</td>\n",
       "      <td>16</td>\n",
       "      <td>14</td>\n",
       "      <td>16</td>\n",
       "      <td>14</td>\n",
       "      <td>10</td>\n",
       "      <td>16</td>\n",
       "    </tr>\n",
       "  </tbody>\n",
       "</table>\n",
       "</div>"
      ],
      "text/plain": [
       "   Alex  Alina  Evelyn  Christopher  Ludwig  Manu  Natalie  Nikolai  \\\n",
       "0    16     16      16           18      18     0       16       14   \n",
       "\n",
       "   Sebastian  Vero  Viki  Wolfgang  \n",
       "0         16    14    10        16  "
      ]
     },
     "execution_count": 39,
     "metadata": {},
     "output_type": "execute_result"
    }
   ],
   "source": [
    "df = pd.read_csv(\"data/playoffBets.csv\")\n",
    "\n",
    "playoffPoints = pd.DataFrame(columns=player_list)\n",
    "\n",
    "for player in player_list:\n",
    "    count = 0\n",
    "    for team in df[\"PO Participant\"]:\n",
    "        if team in list(df[player]):\n",
    "            count+=2\n",
    "            # print(player, team)\n",
    "    print(player, count)\n",
    "    playoffPoints[player] = [count]\n",
    "\n",
    "playoffPoints.to_csv(\"data/playoffResults.csv\",index=False)\n",
    "playoffPoints"
   ]
  }
 ],
 "metadata": {
  "kernelspec": {
   "display_name": "Python 3",
   "language": "python",
   "name": "python3"
  },
  "language_info": {
   "codemirror_mode": {
    "name": "ipython",
    "version": 3
   },
   "file_extension": ".py",
   "mimetype": "text/x-python",
   "name": "python",
   "nbconvert_exporter": "python",
   "pygments_lexer": "ipython3",
   "version": "3.8.6"
  }
 },
 "nbformat": 4,
 "nbformat_minor": 2
}
