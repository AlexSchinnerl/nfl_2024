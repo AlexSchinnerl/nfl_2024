{
 "cells": [
  {
   "cell_type": "code",
   "execution_count": 1,
   "metadata": {},
   "outputs": [],
   "source": [
    "import pandas as pd\n",
    "from datetime import datetime\n",
    "from functions_load_and_transform import thisWeek_DF, lastWeek_DF, thisWeek, lastWeek, team_list, scoringDF, player_list, playerDF"
   ]
  },
  {
   "cell_type": "code",
   "execution_count": null,
   "metadata": {},
   "outputs": [],
   "source": [
    "playerDF[\"Gesamtpunkte\"] = scoringDF.loc[scoringDF[\"Week\"]<=selected_week, player_list].sum().to_list()"
   ]
  },
  {
   "cell_type": "code",
   "execution_count": 23,
   "metadata": {},
   "outputs": [],
   "source": [
    "resultsDF = pd.read_csv(\"data/results.csv\")\n",
    "\n",
    "schedule = pd.read_csv(\"data/schedule.csv\", delimiter=\";\")\n",
    "schedule[\"Date\"] = pd.to_datetime(schedule[\"Date\"], format=\"%Y.%m.%d %H:%M\")\n",
    "\n",
    "thisDay = datetime.today().strftime(\"%Y-%m-%d\") # for live"
   ]
  },
  {
   "cell_type": "code",
   "execution_count": 25,
   "metadata": {},
   "outputs": [
    {
     "data": {
      "text/plain": [
       "2"
      ]
     },
     "execution_count": 25,
     "metadata": {},
     "output_type": "execute_result"
    }
   ],
   "source": [
    "thisWeek = list(schedule.loc[schedule[\"Date\"]<thisDay, \"Week\"])[-1]+1\n",
    "thisWeek"
   ]
  },
  {
   "cell_type": "code",
   "execution_count": 26,
   "metadata": {},
   "outputs": [
    {
     "data": {
      "text/plain": [
       "1"
      ]
     },
     "execution_count": 26,
     "metadata": {},
     "output_type": "execute_result"
    }
   ],
   "source": [
    "lastWeek = thisWeek-1\n",
    "lastWeek"
   ]
  },
  {
   "cell_type": "code",
   "execution_count": 27,
   "metadata": {},
   "outputs": [
    {
     "data": {
      "text/html": [
       "<div>\n",
       "<style scoped>\n",
       "    .dataframe tbody tr th:only-of-type {\n",
       "        vertical-align: middle;\n",
       "    }\n",
       "\n",
       "    .dataframe tbody tr th {\n",
       "        vertical-align: top;\n",
       "    }\n",
       "\n",
       "    .dataframe thead th {\n",
       "        text-align: right;\n",
       "    }\n",
       "</style>\n",
       "<table border=\"1\" class=\"dataframe\">\n",
       "  <thead>\n",
       "    <tr style=\"text-align: right;\">\n",
       "      <th></th>\n",
       "      <th>Game Nr.</th>\n",
       "      <th>Home Team</th>\n",
       "      <th>Score Home</th>\n",
       "      <th>Score Guest</th>\n",
       "      <th>Away Team</th>\n",
       "    </tr>\n",
       "  </thead>\n",
       "  <tbody>\n",
       "    <tr>\n",
       "      <th>0</th>\n",
       "      <td>1</td>\n",
       "      <td>Kansas City Chiefs</td>\n",
       "      <td>27</td>\n",
       "      <td>20</td>\n",
       "      <td>Baltimore Ravens</td>\n",
       "    </tr>\n",
       "    <tr>\n",
       "      <th>1</th>\n",
       "      <td>2</td>\n",
       "      <td>Philadelphia Eagles</td>\n",
       "      <td>34</td>\n",
       "      <td>29</td>\n",
       "      <td>Green Bay Packers</td>\n",
       "    </tr>\n",
       "    <tr>\n",
       "      <th>2</th>\n",
       "      <td>3</td>\n",
       "      <td>Atlanta Falcons</td>\n",
       "      <td>10</td>\n",
       "      <td>18</td>\n",
       "      <td>Pittsburgh Steelers</td>\n",
       "    </tr>\n",
       "    <tr>\n",
       "      <th>3</th>\n",
       "      <td>4</td>\n",
       "      <td>Buffalo Bills</td>\n",
       "      <td>34</td>\n",
       "      <td>28</td>\n",
       "      <td>Arizona Cardinals</td>\n",
       "    </tr>\n",
       "    <tr>\n",
       "      <th>4</th>\n",
       "      <td>5</td>\n",
       "      <td>Chicago Bears</td>\n",
       "      <td>24</td>\n",
       "      <td>17</td>\n",
       "      <td>Tennessee Titans</td>\n",
       "    </tr>\n",
       "    <tr>\n",
       "      <th>5</th>\n",
       "      <td>6</td>\n",
       "      <td>Cincinnati Bengals</td>\n",
       "      <td>10</td>\n",
       "      <td>16</td>\n",
       "      <td>New England Patriots</td>\n",
       "    </tr>\n",
       "    <tr>\n",
       "      <th>6</th>\n",
       "      <td>7</td>\n",
       "      <td>Indianapolis Colts</td>\n",
       "      <td>27</td>\n",
       "      <td>29</td>\n",
       "      <td>Houston Texans</td>\n",
       "    </tr>\n",
       "    <tr>\n",
       "      <th>7</th>\n",
       "      <td>8</td>\n",
       "      <td>Miami Dolphins</td>\n",
       "      <td>20</td>\n",
       "      <td>17</td>\n",
       "      <td>Jacksonville Jaguars</td>\n",
       "    </tr>\n",
       "    <tr>\n",
       "      <th>8</th>\n",
       "      <td>9</td>\n",
       "      <td>New Orleans Saints</td>\n",
       "      <td>47</td>\n",
       "      <td>10</td>\n",
       "      <td>Carolina Panthers</td>\n",
       "    </tr>\n",
       "    <tr>\n",
       "      <th>9</th>\n",
       "      <td>10</td>\n",
       "      <td>New York Giants</td>\n",
       "      <td>6</td>\n",
       "      <td>28</td>\n",
       "      <td>Minnesota Vikings</td>\n",
       "    </tr>\n",
       "    <tr>\n",
       "      <th>10</th>\n",
       "      <td>11</td>\n",
       "      <td>Los Angeles Chargers</td>\n",
       "      <td>22</td>\n",
       "      <td>10</td>\n",
       "      <td>Las Vegas Raiders</td>\n",
       "    </tr>\n",
       "    <tr>\n",
       "      <th>11</th>\n",
       "      <td>12</td>\n",
       "      <td>Seattle Seahawks</td>\n",
       "      <td>26</td>\n",
       "      <td>20</td>\n",
       "      <td>Denver Broncos</td>\n",
       "    </tr>\n",
       "    <tr>\n",
       "      <th>12</th>\n",
       "      <td>13</td>\n",
       "      <td>Cleveland Browns</td>\n",
       "      <td>17</td>\n",
       "      <td>33</td>\n",
       "      <td>Dallas Cowboys</td>\n",
       "    </tr>\n",
       "    <tr>\n",
       "      <th>13</th>\n",
       "      <td>14</td>\n",
       "      <td>Tampa Bay Buccaneers</td>\n",
       "      <td>37</td>\n",
       "      <td>20</td>\n",
       "      <td>Washington Commanders</td>\n",
       "    </tr>\n",
       "    <tr>\n",
       "      <th>14</th>\n",
       "      <td>15</td>\n",
       "      <td>Detroit Lions</td>\n",
       "      <td>26</td>\n",
       "      <td>20</td>\n",
       "      <td>Los Angeles Rams</td>\n",
       "    </tr>\n",
       "    <tr>\n",
       "      <th>15</th>\n",
       "      <td>16</td>\n",
       "      <td>San Francisco 49ers</td>\n",
       "      <td>32</td>\n",
       "      <td>19</td>\n",
       "      <td>New York Jets</td>\n",
       "    </tr>\n",
       "  </tbody>\n",
       "</table>\n",
       "</div>"
      ],
      "text/plain": [
       "    Game Nr.             Home Team  Score Home  Score Guest  \\\n",
       "0          1    Kansas City Chiefs          27           20   \n",
       "1          2   Philadelphia Eagles          34           29   \n",
       "2          3       Atlanta Falcons          10           18   \n",
       "3          4         Buffalo Bills          34           28   \n",
       "4          5         Chicago Bears          24           17   \n",
       "5          6    Cincinnati Bengals          10           16   \n",
       "6          7    Indianapolis Colts          27           29   \n",
       "7          8        Miami Dolphins          20           17   \n",
       "8          9    New Orleans Saints          47           10   \n",
       "9         10       New York Giants           6           28   \n",
       "10        11  Los Angeles Chargers          22           10   \n",
       "11        12      Seattle Seahawks          26           20   \n",
       "12        13      Cleveland Browns          17           33   \n",
       "13        14  Tampa Bay Buccaneers          37           20   \n",
       "14        15         Detroit Lions          26           20   \n",
       "15        16   San Francisco 49ers          32           19   \n",
       "\n",
       "                Away Team  \n",
       "0        Baltimore Ravens  \n",
       "1       Green Bay Packers  \n",
       "2     Pittsburgh Steelers  \n",
       "3       Arizona Cardinals  \n",
       "4        Tennessee Titans  \n",
       "5    New England Patriots  \n",
       "6          Houston Texans  \n",
       "7    Jacksonville Jaguars  \n",
       "8       Carolina Panthers  \n",
       "9       Minnesota Vikings  \n",
       "10      Las Vegas Raiders  \n",
       "11         Denver Broncos  \n",
       "12         Dallas Cowboys  \n",
       "13  Washington Commanders  \n",
       "14       Los Angeles Rams  \n",
       "15          New York Jets  "
      ]
     },
     "execution_count": 27,
     "metadata": {},
     "output_type": "execute_result"
    }
   ],
   "source": [
    "lastWeek_DF = resultsDF.loc[resultsDF[\"Week\"]==lastWeek, [\"Game Nr.\", \"Home Team\", \"Score Home\", \"Score Guest\", \"Away Team\"]]\n",
    "lastWeek_DF"
   ]
  }
 ],
 "metadata": {
  "kernelspec": {
   "display_name": "Python 3",
   "language": "python",
   "name": "python3"
  },
  "language_info": {
   "codemirror_mode": {
    "name": "ipython",
    "version": 3
   },
   "file_extension": ".py",
   "mimetype": "text/x-python",
   "name": "python",
   "nbconvert_exporter": "python",
   "pygments_lexer": "ipython3",
   "version": "3.10.4"
  }
 },
 "nbformat": 4,
 "nbformat_minor": 2
}
