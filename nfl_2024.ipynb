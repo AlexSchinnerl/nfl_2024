{
 "cells": [
  {
   "cell_type": "code",
   "execution_count": 1,
   "metadata": {},
   "outputs": [],
   "source": [
    "import pandas as pd\n",
    "from datetime import datetime\n",
    "from functions_load_and_transform import thisWeek_DF, lastWeek_DF, thisWeek, lastWeek, team_list, scoringDF, player_list"
   ]
  },
  {
   "cell_type": "code",
   "execution_count": 8,
   "metadata": {},
   "outputs": [],
   "source": [
    "# Load Data\n",
    "schedule = pd.read_csv(\"data/schedule.csv\", delimiter=\";\")\n",
    "schedule[\"Date\"] = pd.to_datetime(schedule[\"Date\"], format=\"%Y.%m.%d %H:%M\")\n",
    "\n",
    "thisDay = datetime.today().strftime(\"%Y-%m-%d\") # for live\n",
    "thisDay = '2024-09-23'"
   ]
  },
  {
   "cell_type": "code",
   "execution_count": 22,
   "metadata": {},
   "outputs": [
    {
     "name": "stdout",
     "output_type": "stream",
     "text": [
      "2024-09-15 2\n",
      "2024-09-16 2\n",
      "2024-09-17 3\n",
      "2024-09-18 3\n",
      "2024-09-19 3\n",
      "2024-09-20 3\n",
      "2024-09-21 3\n",
      "2024-09-22 3\n",
      "2024-09-23 3\n",
      "2024-09-24 4\n",
      "2024-09-25 4\n",
      "2024-09-26 4\n",
      "2024-09-27 4\n",
      "2024-09-28 4\n",
      "2024-09-29 4\n",
      "2024-09-30 4\n"
     ]
    }
   ],
   "source": [
    "for day in range(15, 31):\n",
    "    thisDay = f'2024-09-{day}'\n",
    "    thisWeek = list(schedule.loc[schedule[\"Date\"]>=thisDay, \"Week\"])[0]\n",
    "    print(thisDay, thisWeek)\n"
   ]
  },
  {
   "cell_type": "code",
   "execution_count": null,
   "metadata": {},
   "outputs": [],
   "source": []
  }
 ],
 "metadata": {
  "kernelspec": {
   "display_name": "Python 3",
   "language": "python",
   "name": "python3"
  },
  "language_info": {
   "codemirror_mode": {
    "name": "ipython",
    "version": 3
   },
   "file_extension": ".py",
   "mimetype": "text/x-python",
   "name": "python",
   "nbconvert_exporter": "python",
   "pygments_lexer": "ipython3",
   "version": "3.10.4"
  }
 },
 "nbformat": 4,
 "nbformat_minor": 2
}
