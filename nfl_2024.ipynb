{
 "cells": [
  {
   "cell_type": "code",
   "execution_count": 1,
   "metadata": {},
   "outputs": [],
   "source": [
    "import pandas as pd\n",
    "from datetime import datetime\n",
    "from functions_load_and_transform import thisWeek_DF, lastWeek_DF, thisWeek, lastWeek, team_list, scoringDF, player_list"
   ]
  },
  {
   "cell_type": "code",
   "execution_count": null,
   "metadata": {},
   "outputs": [],
   "source": [
    "selected_week = 3\n",
    "\n",
    "playerDF = pd.DataFrame(data={\"Spieler\":player_list}) # sums up \n",
    "playerDF[\"Gesamtpunkte\"] = scoringDF.loc[scoringDF[\"Week\"]<=selected_week, player_list].sum().to_list()\n",
    "# playerDF[\"Last Week\"] = scoringDF.loc[scoringDF[\"Week\"]<=selected_week-1, player_list].sum().to_list()\n",
    "playerDF[\"Wöchentliche Punkte\"] = scoringDF.loc[scoringDF[\"Week\"]==selected_week, player_list].sum().to_list()"
   ]
  }
 ],
 "metadata": {
  "kernelspec": {
   "display_name": "Python 3",
   "language": "python",
   "name": "python3"
  },
  "language_info": {
   "codemirror_mode": {
    "name": "ipython",
    "version": 3
   },
   "file_extension": ".py",
   "mimetype": "text/x-python",
   "name": "python",
   "nbconvert_exporter": "python",
   "pygments_lexer": "ipython3",
   "version": "3.10.4"
  }
 },
 "nbformat": 4,
 "nbformat_minor": 2
}
