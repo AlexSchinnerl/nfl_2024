{
 "cells": [
  {
   "cell_type": "code",
   "execution_count": 4,
   "metadata": {},
   "outputs": [],
   "source": [
    "import pandas as pd\n",
    "from datetime import datetime\n",
    "from functions_load_and_transform import thisWeek_DF, lastWeek_DF, thisWeek, lastWeek, team_list"
   ]
  },
  {
   "cell_type": "code",
   "execution_count": 5,
   "metadata": {},
   "outputs": [
    {
     "data": {
      "text/plain": [
       "1"
      ]
     },
     "execution_count": 5,
     "metadata": {},
     "output_type": "execute_result"
    }
   ],
   "source": [
    "# Load Data\n",
    "schedule = pd.read_csv(\"data/schedule.csv\", delimiter=\";\")\n",
    "schedule[\"Date\"] = pd.to_datetime(schedule[\"Date\"], format=\"%Y.%m.%d %H:%M\")\n",
    "\n",
    "thisDay = datetime.today().strftime(\"%Y-%m-%d\") # for live\n",
    "# week_count = list(schedule.loc[schedule[\"Date\"]<thisDay, \"Week\"])[-1]\n",
    "if thisDay <= schedule.iloc[15][6].strftime(\"%Y-%m-%d\"):\n",
    "    thisWeek = 1\n",
    "else:\n",
    "    thisWeek = list(schedule.loc[schedule[\"Date\"]<thisDay, \"Week\"])[-1]\n",
    "\n",
    "thisWeek"
   ]
  },
  {
   "cell_type": "code",
   "execution_count": 8,
   "metadata": {},
   "outputs": [
    {
     "data": {
      "text/plain": [
       "'2024-09-11'"
      ]
     },
     "execution_count": 8,
     "metadata": {},
     "output_type": "execute_result"
    }
   ],
   "source": [
    "thisDay = datetime.today().strftime(\"%Y-%m-%d\") # for live\n",
    "thisDay"
   ]
  },
  {
   "cell_type": "code",
   "execution_count": 7,
   "metadata": {},
   "outputs": [
    {
     "data": {
      "text/plain": [
       "'2024-09-09'"
      ]
     },
     "execution_count": 7,
     "metadata": {},
     "output_type": "execute_result"
    }
   ],
   "source": [
    "schedule.iloc[15][6].strftime(\"%Y-%m-%d\")"
   ]
  },
  {
   "cell_type": "code",
   "execution_count": 10,
   "metadata": {},
   "outputs": [
    {
     "data": {
      "text/plain": [
       "False"
      ]
     },
     "execution_count": 10,
     "metadata": {},
     "output_type": "execute_result"
    }
   ],
   "source": [
    "thisDay <= schedule.iloc[15][6].strftime(\"%Y-%m-%d\")"
   ]
  },
  {
   "cell_type": "code",
   "execution_count": 15,
   "metadata": {},
   "outputs": [
    {
     "data": {
      "text/html": [
       "<div>\n",
       "<style scoped>\n",
       "    .dataframe tbody tr th:only-of-type {\n",
       "        vertical-align: middle;\n",
       "    }\n",
       "\n",
       "    .dataframe tbody tr th {\n",
       "        vertical-align: top;\n",
       "    }\n",
       "\n",
       "    .dataframe thead th {\n",
       "        text-align: right;\n",
       "    }\n",
       "</style>\n",
       "<table border=\"1\" class=\"dataframe\">\n",
       "  <thead>\n",
       "    <tr style=\"text-align: right;\">\n",
       "      <th></th>\n",
       "      <th>Counter</th>\n",
       "      <th>Game Nr.</th>\n",
       "      <th>Week</th>\n",
       "      <th>Home Team</th>\n",
       "      <th>Away Team</th>\n",
       "      <th>Location</th>\n",
       "      <th>Date</th>\n",
       "    </tr>\n",
       "  </thead>\n",
       "  <tbody>\n",
       "    <tr>\n",
       "      <th>0</th>\n",
       "      <td>1</td>\n",
       "      <td>1</td>\n",
       "      <td>1</td>\n",
       "      <td>Kansas City Chiefs</td>\n",
       "      <td>Baltimore Ravens</td>\n",
       "      <td>GEHA Field at Arrowhead Stadium, Kansas City, MO</td>\n",
       "      <td>2024-09-05 20:20:00</td>\n",
       "    </tr>\n",
       "    <tr>\n",
       "      <th>1</th>\n",
       "      <td>2</td>\n",
       "      <td>2</td>\n",
       "      <td>1</td>\n",
       "      <td>Philadelphia Eagles</td>\n",
       "      <td>Green Bay Packers</td>\n",
       "      <td>Corinthians Arena, Sao Paulo</td>\n",
       "      <td>2024-09-06 20:15:00</td>\n",
       "    </tr>\n",
       "    <tr>\n",
       "      <th>2</th>\n",
       "      <td>3</td>\n",
       "      <td>3</td>\n",
       "      <td>1</td>\n",
       "      <td>Atlanta Falcons</td>\n",
       "      <td>Pittsburgh Steelers</td>\n",
       "      <td>Mercedes-Benz Stadium, Atlanta, GA</td>\n",
       "      <td>2024-09-08 13:00:00</td>\n",
       "    </tr>\n",
       "    <tr>\n",
       "      <th>3</th>\n",
       "      <td>4</td>\n",
       "      <td>4</td>\n",
       "      <td>1</td>\n",
       "      <td>Buffalo Bills</td>\n",
       "      <td>Arizona Cardinals</td>\n",
       "      <td>Highmark Stadium, Orchard Park, NY</td>\n",
       "      <td>2024-09-08 13:00:00</td>\n",
       "    </tr>\n",
       "    <tr>\n",
       "      <th>4</th>\n",
       "      <td>5</td>\n",
       "      <td>5</td>\n",
       "      <td>1</td>\n",
       "      <td>Chicago Bears</td>\n",
       "      <td>Tennessee Titans</td>\n",
       "      <td>Soldier Field, Chicago, IL</td>\n",
       "      <td>2024-09-08 13:00:00</td>\n",
       "    </tr>\n",
       "    <tr>\n",
       "      <th>5</th>\n",
       "      <td>6</td>\n",
       "      <td>6</td>\n",
       "      <td>1</td>\n",
       "      <td>Cincinnati Bengals</td>\n",
       "      <td>New England Patriots</td>\n",
       "      <td>Paycor Stadium, Cincinnati, OH</td>\n",
       "      <td>2024-09-08 13:00:00</td>\n",
       "    </tr>\n",
       "    <tr>\n",
       "      <th>6</th>\n",
       "      <td>7</td>\n",
       "      <td>7</td>\n",
       "      <td>1</td>\n",
       "      <td>Indianapolis Colts</td>\n",
       "      <td>Houston Texans</td>\n",
       "      <td>Lucas Oil Stadium, Indianapolis, IN</td>\n",
       "      <td>2024-09-08 13:00:00</td>\n",
       "    </tr>\n",
       "    <tr>\n",
       "      <th>7</th>\n",
       "      <td>8</td>\n",
       "      <td>8</td>\n",
       "      <td>1</td>\n",
       "      <td>Miami Dolphins</td>\n",
       "      <td>Jacksonville Jaguars</td>\n",
       "      <td>Hard Rock Stadium, Miami Gardens, FL</td>\n",
       "      <td>2024-09-08 13:00:00</td>\n",
       "    </tr>\n",
       "    <tr>\n",
       "      <th>8</th>\n",
       "      <td>9</td>\n",
       "      <td>9</td>\n",
       "      <td>1</td>\n",
       "      <td>New Orleans Saints</td>\n",
       "      <td>Carolina Panthers</td>\n",
       "      <td>Caesars Superdome, New Orleans, LA</td>\n",
       "      <td>2024-09-08 13:00:00</td>\n",
       "    </tr>\n",
       "    <tr>\n",
       "      <th>9</th>\n",
       "      <td>10</td>\n",
       "      <td>10</td>\n",
       "      <td>1</td>\n",
       "      <td>New York Giants</td>\n",
       "      <td>Minnesota Vikings</td>\n",
       "      <td>MetLife Stadium, East Rutherford, NJ</td>\n",
       "      <td>2024-09-08 13:00:00</td>\n",
       "    </tr>\n",
       "    <tr>\n",
       "      <th>10</th>\n",
       "      <td>11</td>\n",
       "      <td>11</td>\n",
       "      <td>1</td>\n",
       "      <td>Los Angeles Chargers</td>\n",
       "      <td>Las Vegas Raiders</td>\n",
       "      <td>SoFi Stadium, Inglewood, CA</td>\n",
       "      <td>2024-09-08 16:05:00</td>\n",
       "    </tr>\n",
       "    <tr>\n",
       "      <th>11</th>\n",
       "      <td>12</td>\n",
       "      <td>12</td>\n",
       "      <td>1</td>\n",
       "      <td>Seattle Seahawks</td>\n",
       "      <td>Denver Broncos</td>\n",
       "      <td>Lumen Field, Seattle, WA</td>\n",
       "      <td>2024-09-08 16:05:00</td>\n",
       "    </tr>\n",
       "    <tr>\n",
       "      <th>12</th>\n",
       "      <td>13</td>\n",
       "      <td>13</td>\n",
       "      <td>1</td>\n",
       "      <td>Cleveland Browns</td>\n",
       "      <td>Dallas Cowboys</td>\n",
       "      <td>Cleveland Browns Stadium, Cleveland, OH</td>\n",
       "      <td>2024-09-08 16:25:00</td>\n",
       "    </tr>\n",
       "    <tr>\n",
       "      <th>13</th>\n",
       "      <td>14</td>\n",
       "      <td>14</td>\n",
       "      <td>1</td>\n",
       "      <td>Tampa Bay Buccaneers</td>\n",
       "      <td>Washington Commanders</td>\n",
       "      <td>Raymond James Stadium, Tampa, FL</td>\n",
       "      <td>2024-09-08 16:25:00</td>\n",
       "    </tr>\n",
       "    <tr>\n",
       "      <th>14</th>\n",
       "      <td>15</td>\n",
       "      <td>15</td>\n",
       "      <td>1</td>\n",
       "      <td>Detroit Lions</td>\n",
       "      <td>Los Angeles Rams</td>\n",
       "      <td>Ford Field, Detroit, MI</td>\n",
       "      <td>2024-09-08 20:20:00</td>\n",
       "    </tr>\n",
       "    <tr>\n",
       "      <th>15</th>\n",
       "      <td>16</td>\n",
       "      <td>16</td>\n",
       "      <td>1</td>\n",
       "      <td>San Francisco 49ers</td>\n",
       "      <td>New York Jets</td>\n",
       "      <td>Levi's Stadium, Santa Clara, CA</td>\n",
       "      <td>2024-09-09 20:20:00</td>\n",
       "    </tr>\n",
       "  </tbody>\n",
       "</table>\n",
       "</div>"
      ],
      "text/plain": [
       "    Counter  Game Nr.  Week             Home Team              Away Team  \\\n",
       "0         1         1     1    Kansas City Chiefs       Baltimore Ravens   \n",
       "1         2         2     1   Philadelphia Eagles      Green Bay Packers   \n",
       "2         3         3     1       Atlanta Falcons    Pittsburgh Steelers   \n",
       "3         4         4     1         Buffalo Bills      Arizona Cardinals   \n",
       "4         5         5     1         Chicago Bears       Tennessee Titans   \n",
       "5         6         6     1    Cincinnati Bengals   New England Patriots   \n",
       "6         7         7     1    Indianapolis Colts         Houston Texans   \n",
       "7         8         8     1        Miami Dolphins   Jacksonville Jaguars   \n",
       "8         9         9     1    New Orleans Saints      Carolina Panthers   \n",
       "9        10        10     1       New York Giants      Minnesota Vikings   \n",
       "10       11        11     1  Los Angeles Chargers      Las Vegas Raiders   \n",
       "11       12        12     1      Seattle Seahawks         Denver Broncos   \n",
       "12       13        13     1      Cleveland Browns         Dallas Cowboys   \n",
       "13       14        14     1  Tampa Bay Buccaneers  Washington Commanders   \n",
       "14       15        15     1         Detroit Lions       Los Angeles Rams   \n",
       "15       16        16     1   San Francisco 49ers          New York Jets   \n",
       "\n",
       "                                            Location                Date  \n",
       "0   GEHA Field at Arrowhead Stadium, Kansas City, MO 2024-09-05 20:20:00  \n",
       "1                       Corinthians Arena, Sao Paulo 2024-09-06 20:15:00  \n",
       "2                 Mercedes-Benz Stadium, Atlanta, GA 2024-09-08 13:00:00  \n",
       "3                 Highmark Stadium, Orchard Park, NY 2024-09-08 13:00:00  \n",
       "4                         Soldier Field, Chicago, IL 2024-09-08 13:00:00  \n",
       "5                     Paycor Stadium, Cincinnati, OH 2024-09-08 13:00:00  \n",
       "6                Lucas Oil Stadium, Indianapolis, IN 2024-09-08 13:00:00  \n",
       "7               Hard Rock Stadium, Miami Gardens, FL 2024-09-08 13:00:00  \n",
       "8                 Caesars Superdome, New Orleans, LA 2024-09-08 13:00:00  \n",
       "9               MetLife Stadium, East Rutherford, NJ 2024-09-08 13:00:00  \n",
       "10                       SoFi Stadium, Inglewood, CA 2024-09-08 16:05:00  \n",
       "11                          Lumen Field, Seattle, WA 2024-09-08 16:05:00  \n",
       "12           Cleveland Browns Stadium, Cleveland, OH 2024-09-08 16:25:00  \n",
       "13                  Raymond James Stadium, Tampa, FL 2024-09-08 16:25:00  \n",
       "14                           Ford Field, Detroit, MI 2024-09-08 20:20:00  \n",
       "15                   Levi's Stadium, Santa Clara, CA 2024-09-09 20:20:00  "
      ]
     },
     "execution_count": 15,
     "metadata": {},
     "output_type": "execute_result"
    }
   ],
   "source": [
    "schedule.loc[schedule[\"Date\"]<=thisDay]"
   ]
  }
 ],
 "metadata": {
  "kernelspec": {
   "display_name": "Python 3",
   "language": "python",
   "name": "python3"
  },
  "language_info": {
   "codemirror_mode": {
    "name": "ipython",
    "version": 3
   },
   "file_extension": ".py",
   "mimetype": "text/x-python",
   "name": "python",
   "nbconvert_exporter": "python",
   "pygments_lexer": "ipython3",
   "version": "3.8.6"
  }
 },
 "nbformat": 4,
 "nbformat_minor": 2
}
